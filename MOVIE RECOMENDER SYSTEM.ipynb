{
 "cells": [
  {
   "cell_type": "code",
   "execution_count": 1,
   "id": "9ab37725",
   "metadata": {},
   "outputs": [],
   "source": [
    "# Import libraries\n",
    "import pandas as pd\n",
    "import numpy as np\n",
    "from sklearn.metrics.pairwise import cosine_similarity\n",
    "from sklearn.feature_extraction.text import TfidfVectorizer\n",
    "\n",
    "# Load datasets\n",
    "movies = pd.read_csv('movies.csv')\n",
    "ratings = pd.read_csv('ratings.csv')"
   ]
  },
  {
   "cell_type": "code",
   "execution_count": 2,
   "id": "33bf2a20",
   "metadata": {},
   "outputs": [
    {
     "data": {
      "text/html": [
       "<div>\n",
       "<style scoped>\n",
       "    .dataframe tbody tr th:only-of-type {\n",
       "        vertical-align: middle;\n",
       "    }\n",
       "\n",
       "    .dataframe tbody tr th {\n",
       "        vertical-align: top;\n",
       "    }\n",
       "\n",
       "    .dataframe thead th {\n",
       "        text-align: right;\n",
       "    }\n",
       "</style>\n",
       "<table border=\"1\" class=\"dataframe\">\n",
       "  <thead>\n",
       "    <tr style=\"text-align: right;\">\n",
       "      <th></th>\n",
       "      <th>movieId</th>\n",
       "      <th>title</th>\n",
       "      <th>genres</th>\n",
       "    </tr>\n",
       "  </thead>\n",
       "  <tbody>\n",
       "    <tr>\n",
       "      <th>0</th>\n",
       "      <td>1</td>\n",
       "      <td>Toy Story (1995)</td>\n",
       "      <td>Adventure|Animation|Children|Comedy|Fantasy</td>\n",
       "    </tr>\n",
       "    <tr>\n",
       "      <th>1</th>\n",
       "      <td>2</td>\n",
       "      <td>Jumanji (1995)</td>\n",
       "      <td>Adventure|Children|Fantasy</td>\n",
       "    </tr>\n",
       "    <tr>\n",
       "      <th>2</th>\n",
       "      <td>3</td>\n",
       "      <td>Grumpier Old Men (1995)</td>\n",
       "      <td>Comedy|Romance</td>\n",
       "    </tr>\n",
       "    <tr>\n",
       "      <th>3</th>\n",
       "      <td>4</td>\n",
       "      <td>Waiting to Exhale (1995)</td>\n",
       "      <td>Comedy|Drama|Romance</td>\n",
       "    </tr>\n",
       "    <tr>\n",
       "      <th>4</th>\n",
       "      <td>5</td>\n",
       "      <td>Father of the Bride Part II (1995)</td>\n",
       "      <td>Comedy</td>\n",
       "    </tr>\n",
       "  </tbody>\n",
       "</table>\n",
       "</div>"
      ],
      "text/plain": [
       "   movieId                               title  \\\n",
       "0        1                    Toy Story (1995)   \n",
       "1        2                      Jumanji (1995)   \n",
       "2        3             Grumpier Old Men (1995)   \n",
       "3        4            Waiting to Exhale (1995)   \n",
       "4        5  Father of the Bride Part II (1995)   \n",
       "\n",
       "                                        genres  \n",
       "0  Adventure|Animation|Children|Comedy|Fantasy  \n",
       "1                   Adventure|Children|Fantasy  \n",
       "2                               Comedy|Romance  \n",
       "3                         Comedy|Drama|Romance  \n",
       "4                                       Comedy  "
      ]
     },
     "execution_count": 2,
     "metadata": {},
     "output_type": "execute_result"
    }
   ],
   "source": [
    "# Exploreing  Movie dataset\n",
    "movies.head(5)"
   ]
  },
  {
   "cell_type": "code",
   "execution_count": 3,
   "id": "06808998",
   "metadata": {},
   "outputs": [
    {
     "data": {
      "text/html": [
       "<div>\n",
       "<style scoped>\n",
       "    .dataframe tbody tr th:only-of-type {\n",
       "        vertical-align: middle;\n",
       "    }\n",
       "\n",
       "    .dataframe tbody tr th {\n",
       "        vertical-align: top;\n",
       "    }\n",
       "\n",
       "    .dataframe thead th {\n",
       "        text-align: right;\n",
       "    }\n",
       "</style>\n",
       "<table border=\"1\" class=\"dataframe\">\n",
       "  <thead>\n",
       "    <tr style=\"text-align: right;\">\n",
       "      <th></th>\n",
       "      <th>userId</th>\n",
       "      <th>movieId</th>\n",
       "      <th>rating</th>\n",
       "      <th>timestamp</th>\n",
       "    </tr>\n",
       "  </thead>\n",
       "  <tbody>\n",
       "    <tr>\n",
       "      <th>0</th>\n",
       "      <td>1</td>\n",
       "      <td>16</td>\n",
       "      <td>4.0</td>\n",
       "      <td>1217897793</td>\n",
       "    </tr>\n",
       "    <tr>\n",
       "      <th>1</th>\n",
       "      <td>1</td>\n",
       "      <td>24</td>\n",
       "      <td>1.5</td>\n",
       "      <td>1217895807</td>\n",
       "    </tr>\n",
       "    <tr>\n",
       "      <th>2</th>\n",
       "      <td>1</td>\n",
       "      <td>32</td>\n",
       "      <td>4.0</td>\n",
       "      <td>1217896246</td>\n",
       "    </tr>\n",
       "    <tr>\n",
       "      <th>3</th>\n",
       "      <td>1</td>\n",
       "      <td>47</td>\n",
       "      <td>4.0</td>\n",
       "      <td>1217896556</td>\n",
       "    </tr>\n",
       "    <tr>\n",
       "      <th>4</th>\n",
       "      <td>1</td>\n",
       "      <td>50</td>\n",
       "      <td>4.0</td>\n",
       "      <td>1217896523</td>\n",
       "    </tr>\n",
       "  </tbody>\n",
       "</table>\n",
       "</div>"
      ],
      "text/plain": [
       "   userId  movieId  rating   timestamp\n",
       "0       1       16     4.0  1217897793\n",
       "1       1       24     1.5  1217895807\n",
       "2       1       32     4.0  1217896246\n",
       "3       1       47     4.0  1217896556\n",
       "4       1       50     4.0  1217896523"
      ]
     },
     "execution_count": 3,
     "metadata": {},
     "output_type": "execute_result"
    }
   ],
   "source": [
    "# Exploreing   Rating dataset\n",
    "ratings.head(5)"
   ]
  },
  {
   "cell_type": "code",
   "execution_count": 6,
   "id": "e4d0c82d",
   "metadata": {},
   "outputs": [
    {
     "name": "stdout",
     "output_type": "stream",
     "text": [
      "<class 'pandas.core.frame.DataFrame'>\n",
      "RangeIndex: 10329 entries, 0 to 10328\n",
      "Data columns (total 3 columns):\n",
      " #   Column   Non-Null Count  Dtype \n",
      "---  ------   --------------  ----- \n",
      " 0   movieId  10329 non-null  int64 \n",
      " 1   title    10329 non-null  object\n",
      " 2   genres   10329 non-null  object\n",
      "dtypes: int64(1), object(2)\n",
      "memory usage: 242.2+ KB\n",
      "None\n"
     ]
    }
   ],
   "source": [
    "# Movies Data set Information\n",
    "print(movies.info())\n"
   ]
  },
  {
   "cell_type": "code",
   "execution_count": 7,
   "id": "05b5b456",
   "metadata": {},
   "outputs": [
    {
     "name": "stdout",
     "output_type": "stream",
     "text": [
      "<class 'pandas.core.frame.DataFrame'>\n",
      "RangeIndex: 105339 entries, 0 to 105338\n",
      "Data columns (total 4 columns):\n",
      " #   Column     Non-Null Count   Dtype  \n",
      "---  ------     --------------   -----  \n",
      " 0   userId     105339 non-null  int64  \n",
      " 1   movieId    105339 non-null  int64  \n",
      " 2   rating     105339 non-null  float64\n",
      " 3   timestamp  105339 non-null  int64  \n",
      "dtypes: float64(1), int64(3)\n",
      "memory usage: 3.2 MB\n",
      "None\n"
     ]
    }
   ],
   "source": [
    "# Rating Data set Information\n",
    "print(ratings.info())"
   ]
  },
  {
   "cell_type": "code",
   "execution_count": 8,
   "id": "faf7acfb",
   "metadata": {},
   "outputs": [
    {
     "name": "stdout",
     "output_type": "stream",
     "text": [
      "Unique Users: 668\n",
      "Unique Movies: 10329\n"
     ]
    }
   ],
   "source": [
    "#Finding the unique users and movies\n",
    "\n",
    "print(\"Unique Users:\", ratings['userId'].nunique())\n",
    "print(\"Unique Movies:\", movies['movieId'].nunique())\n"
   ]
  },
  {
   "cell_type": "code",
   "execution_count": 11,
   "id": "657a9321",
   "metadata": {},
   "outputs": [
    {
     "data": {
      "text/plain": [
       "0        [Adventure, Animation, Children, Comedy, Fantasy]\n",
       "1                           [Adventure, Children, Fantasy]\n",
       "2                                        [Comedy, Romance]\n",
       "3                                 [Comedy, Drama, Romance]\n",
       "4                                                 [Comedy]\n",
       "                               ...                        \n",
       "10324                        [Animation, Children, Comedy]\n",
       "10325                                             [Comedy]\n",
       "10326                                             [Comedy]\n",
       "10327                                              [Drama]\n",
       "10328                                 [(no genres listed)]\n",
       "Name: genres, Length: 10329, dtype: object"
      ]
     },
     "execution_count": 11,
     "metadata": {},
     "output_type": "execute_result"
    }
   ],
   "source": [
    "# Average rating and total movies per genre\n",
    "ratings['rating'].describe()\n",
    "#spliting the movie genres\n",
    "movies['genres'] = movies['genres'].str.split('|')\n"
   ]
  },
  {
   "cell_type": "code",
   "execution_count": 12,
   "id": "022d85e9",
   "metadata": {},
   "outputs": [
    {
     "name": "stdout",
     "output_type": "stream",
     "text": [
      "Unique genres: {'Western', 'Horror', 'War', '(no genres listed)', 'Musical', 'Crime', 'Animation', 'IMAX', 'Sci-Fi', 'Comedy', 'Thriller', 'Drama', 'Film-Noir', 'Action', 'Children', 'Documentary', 'Fantasy', 'Mystery', 'Adventure', 'Romance'}\n"
     ]
    }
   ],
   "source": [
    "# Extract genres and count unique genres\n",
    "all_genres = set(i for genres in movies['genres'] for i in genres)\n",
    "print(\"Unique genres:\", all_genres)"
   ]
  },
  {
   "cell_type": "code",
   "execution_count": 59,
   "id": "7f00a92e",
   "metadata": {},
   "outputs": [
    {
     "name": "stdout",
     "output_type": "stream",
     "text": [
      "Popularity Based Recommender System\n",
      "\n",
      "                                      title  Average_Movie_Rating  Num_Reviews\n",
      "25  monty python and the holy grail (1975)              4.301948          154\n",
      "19                            fargo (1996)              4.271144          201\n",
      "26              princess bride, the (1987)              4.163743          171\n",
      "6                      pulp fiction (1994)              4.160000          325\n",
      "9                      forrest gump (1994)              4.138264          311\n"
     ]
    }
   ],
   "source": [
    "# 1.Creating a popularity-based Recommender system at a genre level\n",
    "#That suggests top N movies based on popularity within a given genre, filtered by minimum reviews.\n",
    "\n",
    "def Popularity_Based_Recommender_System(genre, min_reviews_threshold, num_recommendations):\n",
    "    # Filter movies by genre\n",
    "    genre_movies = movies[movies['genres'].apply(lambda x: genre in x)]\n",
    "    \n",
    "    genre_ratings = ratings[ratings['movieId'].isin(genre_movies['movieId'])]\n",
    "    \n",
    "    # Aggregate ratings by movieId\n",
    "    movie_stats = genre_ratings.groupby('movieId').agg({'rating': ['mean', 'count']})\n",
    "    movie_stats.columns = ['Average_Movie_Rating', 'Num_Reviews']\n",
    "    movie_stats = movie_stats[movie_stats['Num_Reviews'] >= min_reviews_threshold]\n",
    "    \n",
    "    # Merge with movies data\n",
    "    movie_stats = movie_stats.merge(movies, on='movieId')\n",
    "    \n",
    "    # Sort and get top N recommendations\n",
    "    recommendations = movie_stats.sort_values(by='Average_Movie_Rating', ascending=False).head(num_recommendations)\n",
    "    \n",
    "    return  recommendations[['title', 'Average_Movie_Rating', 'Num_Reviews']]\n",
    "\n",
    "# Example \n",
    "print(\"Popularity Based Recommender System\")\n",
    "print(\"\\n\",Popularity_Based_Recommender_System('Comedy', 100, 5))\n",
    "\n"
   ]
  },
  {
   "cell_type": "code",
   "execution_count": null,
   "id": "94cfd974",
   "metadata": {},
   "outputs": [],
   "source": [
    "Create a DataFrame for the recommendations\n",
    "    recommended_movies = movies.iloc[movie_indices][['title', 'genres', 'average_rating', 'num_reviews']]\n",
    "    recommended_movies.reset_index(drop=True, inplace=True)\n",
    "    recommended_movies.columns = ['Movie Title', 'Genres', 'Average Rating', 'Number of Reviews']\n",
    "    \n",
    "    return recommended_movies"
   ]
  },
  {
   "cell_type": "code",
   "execution_count": 57,
   "id": "2d9642a2",
   "metadata": {},
   "outputs": [
    {
     "name": "stdout",
     "output_type": "stream",
     "text": [
      "Content Based Recomendation System.\n",
      "\n",
      " 1815                                       antz (1998)\n",
      "2496                                toy story 2 (1999)\n",
      "2967    adventures of rocky and bullwinkle, the (2000)\n",
      "3166                  emperor's new groove, the (2000)\n",
      "3811                             monsters, inc. (2001)\n",
      "Name: title, dtype: object\n"
     ]
    }
   ],
   "source": [
    "#2.CreateING a content-based recommender system.\n",
    "# That suggests top N movies based on similar movie genres.\n",
    "\n",
    "def content_based_recommender(movie_title, num_recommendations):\n",
    "    # Vectorize movie genres\n",
    "    movies['genres_str'] = movies['genres'].apply(lambda x: ' '.join(x))\n",
    "    tfidf = TfidfVectorizer(stop_words='english')\n",
    "    tfidf_matrix = tfidf.fit_transform(movies['genres_str'])\n",
    "    \n",
    "    # Compute similarity matrix\n",
    "    cosine_sim = cosine_similarity(tfidf_matrix, tfidf_matrix)\n",
    "    \n",
    "    # Standardize movie titles for comparison\n",
    "    movies['title'] = movies['title'].str.lower()\n",
    "    movie_title = movie_title.lower()\n",
    "    \n",
    "    # Check if the movie exists in the dataset\n",
    "    if movie_title not in movies['title'].values:\n",
    "        return f\"Movie '{movie_title}' not found in the dataset.\"\n",
    "    \n",
    "    # Get movie index\n",
    "    movie_idx = movies[movies['title'] == movie_title].index[0]\n",
    "    \n",
    "    # Get similarity scores\n",
    "    sim_scores = list(enumerate(cosine_sim[movie_idx]))\n",
    "    sim_scores = sorted(sim_scores, key=lambda x: x[1], reverse=True)\n",
    "    sim_scores = sim_scores[1:num_recommendations+1]\n",
    "    \n",
    "    # Get movie indices\n",
    "    movie_indices = [i[0] for i in sim_scores]\n",
    "    \n",
    "    if not movie_indices:\n",
    "        return \"No similar movies found.\"\n",
    "    \n",
    "    m=movies['title'].iloc[movie_indices]\n",
    "    \n",
    "    \n",
    "    return m\n",
    "\n",
    "print(\"Content Based Recomendation System.\")\n",
    "print(\"\\n\",content_based_recommender('Toy Story (1995)', 5))\n"
   ]
  },
  {
   "cell_type": "code",
   "execution_count": 60,
   "id": "458417ed",
   "metadata": {},
   "outputs": [
    {
     "name": "stdout",
     "output_type": "stream",
     "text": [
      "Collaborative based recomendation system\n",
      "\n",
      " 356           in the mouth of madness (1995)\n",
      "2123    thing from another world, the (1951)\n",
      "2292             barefoot in the park (1967)\n",
      "2612                   bad lieutenant (1992)\n",
      "7227                 plague dogs, the (1982)\n",
      "Name: title, dtype: object\n"
     ]
    }
   ],
   "source": [
    "# 3.Creating a Collabrative based recommendation System.\n",
    "#That Implement a collaborative filtering system that recommends top N movies based on similar users.\n",
    "\n",
    "def collaborative_based_recommender(user_id, num_recommendations, num_similar_users):\n",
    "    # Create user-movie matrix\n",
    "    user_movie_matrix = ratings.pivot(index='userId', columns='movieId', values='rating')\n",
    "    \n",
    "    # Normalize ratings\n",
    "    user_movie_matrix = user_movie_matrix.subtract(user_movie_matrix.mean(axis=1), axis='rows')\n",
    "    \n",
    "    # Compute cosine similarity between users\n",
    "    user_similarity = cosine_similarity(user_movie_matrix.fillna(0))\n",
    "    user_sim_df = pd.DataFrame(user_similarity, index=user_movie_matrix.index, columns=user_movie_matrix.index)\n",
    "    \n",
    "    # Get similar users\n",
    "    similar_users = user_sim_df[user_id].sort_values(ascending=False)[1:num_similar_users+1].index\n",
    "    \n",
    "    # Aggregate ratings of similar users\n",
    "    similar_users_ratings = user_movie_matrix.loc[similar_users].mean(axis=0)\n",
    "    user_rated_movies = user_movie_matrix.loc[user_id].dropna().index\n",
    "    recommendations = similar_users_ratings.drop(user_rated_movies).sort_values(ascending=False).head(num_recommendations)\n",
    "    k=movies[movies['movieId'].isin(recommendations.index)]['title']\n",
    "    return k\n",
    "\n",
    "# Example usage\n",
    "print(\"Collaborative based recomendation system\")\n",
    "print(\"\\n\",collaborative_based_recommender(1, 5, 100))\n",
    "\n",
    "\n",
    "\n"
   ]
  },
  {
   "cell_type": "code",
   "execution_count": 63,
   "id": "95d0d5c5",
   "metadata": {},
   "outputs": [
    {
     "data": {
      "application/vnd.jupyter.widget-view+json": {
       "model_id": "9e84ea0f517e4573ab24a7b5157cddb3",
       "version_major": 2,
       "version_minor": 0
      },
      "text/plain": [
       "Dropdown(description='Genre:', options=('Western', 'Horror', 'War', '(no genres listed)', 'Musical', 'Crime', …"
      ]
     },
     "metadata": {},
     "output_type": "display_data"
    },
    {
     "data": {
      "application/vnd.jupyter.widget-view+json": {
       "model_id": "1e34da8210c94987ab7fe9008c95fca6",
       "version_major": 2,
       "version_minor": 0
      },
      "text/plain": [
       "IntSlider(value=100, description='Min Reviews:', max=500, min=1)"
      ]
     },
     "metadata": {},
     "output_type": "display_data"
    },
    {
     "data": {
      "application/vnd.jupyter.widget-view+json": {
       "model_id": "f6838ba905454a94a1478f8071d95a94",
       "version_major": 2,
       "version_minor": 0
      },
      "text/plain": [
       "IntSlider(value=5, description='Recommendations:', max=20, min=1)"
      ]
     },
     "metadata": {},
     "output_type": "display_data"
    },
    {
     "data": {
      "application/vnd.jupyter.widget-view+json": {
       "model_id": "259e18085d604732aaef825a01a8e43b",
       "version_major": 2,
       "version_minor": 0
      },
      "text/plain": [
       "Button(description='Recommend', style=ButtonStyle())"
      ]
     },
     "metadata": {},
     "output_type": "display_data"
    },
    {
     "data": {
      "text/html": [
       "<div>\n",
       "<style scoped>\n",
       "    .dataframe tbody tr th:only-of-type {\n",
       "        vertical-align: middle;\n",
       "    }\n",
       "\n",
       "    .dataframe tbody tr th {\n",
       "        vertical-align: top;\n",
       "    }\n",
       "\n",
       "    .dataframe thead th {\n",
       "        text-align: right;\n",
       "    }\n",
       "</style>\n",
       "<table border=\"1\" class=\"dataframe\">\n",
       "  <thead>\n",
       "    <tr style=\"text-align: right;\">\n",
       "      <th></th>\n",
       "      <th>title</th>\n",
       "      <th>Average_Movie_Rating</th>\n",
       "      <th>Num_Reviews</th>\n",
       "    </tr>\n",
       "  </thead>\n",
       "  <tbody>\n",
       "    <tr>\n",
       "      <th>1</th>\n",
       "      <td>silence of the lambs, the (1991)</td>\n",
       "      <td>4.194828</td>\n",
       "      <td>290</td>\n",
       "    </tr>\n",
       "    <tr>\n",
       "      <th>2</th>\n",
       "      <td>aliens (1986)</td>\n",
       "      <td>4.146497</td>\n",
       "      <td>157</td>\n",
       "    </tr>\n",
       "    <tr>\n",
       "      <th>6</th>\n",
       "      <td>sixth sense, the (1999)</td>\n",
       "      <td>4.130890</td>\n",
       "      <td>191</td>\n",
       "    </tr>\n",
       "    <tr>\n",
       "      <th>3</th>\n",
       "      <td>alien (1979)</td>\n",
       "      <td>4.064103</td>\n",
       "      <td>156</td>\n",
       "    </tr>\n",
       "    <tr>\n",
       "      <th>4</th>\n",
       "      <td>shining, the (1980)</td>\n",
       "      <td>4.004464</td>\n",
       "      <td>112</td>\n",
       "    </tr>\n",
       "  </tbody>\n",
       "</table>\n",
       "</div>"
      ],
      "text/plain": [
       "                              title  Average_Movie_Rating  Num_Reviews\n",
       "1  silence of the lambs, the (1991)              4.194828          290\n",
       "2                     aliens (1986)              4.146497          157\n",
       "6           sixth sense, the (1999)              4.130890          191\n",
       "3                      alien (1979)              4.064103          156\n",
       "4               shining, the (1980)              4.004464          112"
      ]
     },
     "metadata": {},
     "output_type": "display_data"
    }
   ],
   "source": [
    "#creatin GUI interface using python libraries ipwidgets\n",
    "import ipywidgets as widgets\n",
    "from IPython.display import display\n",
    "\n",
    "def interactive_popularity_recommender(genre, min_reviews, num_recommendations):\n",
    "    recommendations = Popularity_Based_Recommender_System(genre, min_reviews, num_recommendations)\n",
    "    display(recommendations)\n",
    "\n",
    "genre_widget = widgets.Dropdown(options=list(all_genres), description='Genre:')\n",
    "min_reviews_widget = widgets.IntSlider(value=100, min=1, max=500, step=1, description='Min Reviews:')\n",
    "num_recommendations_widget = widgets.IntSlider(value=5, min=1, max=20, step=1, description='Recommendations:')\n",
    "recommend_button = widgets.Button(description='Recommend')\n",
    "\n",
    "recommend_button.on_click(lambda x: interactive_popularity_recommender(genre_widget.value, min_reviews_widget.value, num_recommendations_widget.value))\n",
    "\n",
    "display(genre_widget, min_reviews_widget, num_recommendations_widget, recommend_button)\n"
   ]
  },
  {
   "cell_type": "code",
   "execution_count": null,
   "id": "ee06b0fe",
   "metadata": {},
   "outputs": [],
   "source": []
  }
 ],
 "metadata": {
  "kernelspec": {
   "display_name": "Python 3 (ipykernel)",
   "language": "python",
   "name": "python3"
  },
  "language_info": {
   "codemirror_mode": {
    "name": "ipython",
    "version": 3
   },
   "file_extension": ".py",
   "mimetype": "text/x-python",
   "name": "python",
   "nbconvert_exporter": "python",
   "pygments_lexer": "ipython3",
   "version": "3.11.5"
  }
 },
 "nbformat": 4,
 "nbformat_minor": 5
}
